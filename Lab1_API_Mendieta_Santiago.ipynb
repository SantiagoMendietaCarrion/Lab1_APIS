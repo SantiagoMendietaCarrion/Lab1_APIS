{
 "cells": [
  {
   "cell_type": "markdown",
   "metadata": {
    "id": "_Wgigj_IaZB6"
   },
   "source": [
    "<div style=\"width: 100%; clear: both;\">\n",
    "<div style=\"float: left; width: 30%;\">\n",
    "<img src=\"https://www.utpl.edu.ec/sites/default/files/archivos/marca%20UTPL%202018-02.png\", align=\"left\" width=\"280\" height=\"120\">\n",
    "</div>\n",
    "</div>\n",
    "<div style=\"float: right; width: 70%;\">\n",
    "<p style=\"margin: 0; padding-top: 32px; text-align:right; color:#003366; font-size:16px\"><u>Análisis de datos y visualización</u></p>\n",
    "<p style=\"margin: 0; text-align:right; color:#999999; font-size:17px\">Maestría en Inteligencia Artificial Aplicada</p>\n",
    "</div>\n",
    "</div>\n",
    "<div style=\"width: 100%; clear: both;\">\n",
    "<div style=\"width:100%;\">&nbsp;</div>\n",
    "\n",
    "\n",
    "# Laboratorio 1: Extracción de datos mediante APIs\n",
    "\n",
    "La actividad práctico experimental tiene como objetivo validar su habilidad para usar APIs públicas para la extracción de datos.\n",
    "\n",
    "Desarrolle los ejercicios relacionados con la extracción y procesamiento de datos planteados en el notebook.\n",
    "\n",
    "Por cada ejercicio revise las indicaciones proporcionadas, para conseguir así el resultado que se espera.\n",
    "\n",
    "\n",
    "<b>Entregable de la actividad:</b>\n",
    "\n",
    "En la tarea habilitada, suba el notebook con la solución (en formato html o pdf). Antes de subir la solución verifique que consten todas las salidas que se esperan de cada ejercicio.\n"
   ]
  },
  {
   "cell_type": "markdown",
   "metadata": {
    "id": "x97WwfMzdd95"
   },
   "source": [
    "## Paso 1: Configuración de acceso a API de Kaggle\n",
    "\n",
    "<b>Objetivo:</b> Conseguir un API token para comenzar a extraer los datos desde Kaggle.\n",
    "\n",
    "<b>Pasos:</b>\n",
    "\n",
    "1. Crear cuenta en Kaggle: https://www.kaggle.com/account/login\n",
    "2. Revisar la documentación de la API: https://www.kaggle.com/docs/api y seguir los pasos que constan en la sección <b>Authentication</b> para conseguir un API token. Según la documentación:\n",
    "\n",
    "&emsp;&emsp;&emsp;- <i>In order to use the Kaggle’s public API, you must first authenticate using an API token. Go to the 'Account' tab of your user profile and select 'Create New Token'. This will trigger the download of kaggle.json, a file containing your API credentials.</i>\n",
    "\n",
    "&emsp;&emsp;&emsp;Como resultado de esta acción guardar el archivo <b>kaggle.json</b>.\n",
    "\n",
    "4. Configurar credenciales de acceso: Dependiendo del entorno en el que trabaje hay dos opciones para hacer la configuración:\n",
    "\n",
    "&emsp;&emsp;4.1. Si es un entorno local, la documentación indica que hay que copiar el archivo kaggle.json en un directorio específico, según la siguiente instrucción.\n",
    "\n",
    "- <i>If you are using the Kaggle CLI tool, the tool will look for this token at ~/.kaggle/kaggle.json on Linux, OSX, and other UNIX-based operating systems, and at C:\\Users\\<Windows-username>\\.kaggle\\kaggle.json on Windows. If the token is not there, an error will be raised. Hence, once you’ve downloaded the token, you should move it from your Downloads folder to this folder.</i>\n",
    "\n",
    "\n",
    "&emsp;&emsp;4.2. Si es en Google Colab: ejecutar los siguientes pasos cada vez que ingrese a Google Colab.\n",
    "   "
   ]
  },
  {
   "cell_type": "code",
   "execution_count": 101,
   "metadata": {
    "id": "Sh01J5JNaZB-"
   },
   "outputs": [],
   "source": [
    "# Carga de librerías\n",
    "import kaggle\n",
    "import numpy as np\n",
    "import pandas as pd\n",
    "import numpy as np\n",
    "import matplotlib.pyplot as plt\n",
    "import os\n",
    "import itertools\n",
    "import time\n",
    "from PIL import Image\n",
    "from IPython.core import display as ICD\n",
    "%matplotlib inline"
   ]
  },
  {
   "cell_type": "markdown",
   "metadata": {
    "id": "LTnSnTnQaZB_"
   },
   "source": [
    "## Paso 2: Carga de palabras clave para realizar la búsqueda\n",
    "\n",
    "Objetivo: Cargar archivo de palabras clave y crear lista que sea procesable por la API"
   ]
  },
  {
   "cell_type": "code",
   "execution_count": 102,
   "metadata": {
    "colab": {
     "base_uri": "https://localhost:8080/",
     "height": 256
    },
    "id": "ULqyuCfsaZB_",
    "outputId": "f228475b-4be7-472c-b4b1-13b1a3f1196b"
   },
   "outputs": [
    {
     "name": "stdout",
     "output_type": "stream",
     "text": [
      "Cantidad de palabras clave:  8\n"
     ]
    },
    {
     "data": {
      "text/html": [
       "<div>\n",
       "<style scoped>\n",
       "    .dataframe tbody tr th:only-of-type {\n",
       "        vertical-align: middle;\n",
       "    }\n",
       "\n",
       "    .dataframe tbody tr th {\n",
       "        vertical-align: top;\n",
       "    }\n",
       "\n",
       "    .dataframe thead th {\n",
       "        text-align: right;\n",
       "    }\n",
       "</style>\n",
       "<table border=\"1\" class=\"dataframe\">\n",
       "  <thead>\n",
       "    <tr style=\"text-align: right;\">\n",
       "      <th></th>\n",
       "      <th>keyword</th>\n",
       "    </tr>\n",
       "  </thead>\n",
       "  <tbody>\n",
       "    <tr>\n",
       "      <th>0</th>\n",
       "      <td>linear regression</td>\n",
       "    </tr>\n",
       "    <tr>\n",
       "      <th>1</th>\n",
       "      <td>binary classication</td>\n",
       "    </tr>\n",
       "    <tr>\n",
       "      <th>2</th>\n",
       "      <td>visualization</td>\n",
       "    </tr>\n",
       "    <tr>\n",
       "      <th>3</th>\n",
       "      <td>poverty</td>\n",
       "    </tr>\n",
       "    <tr>\n",
       "      <th>4</th>\n",
       "      <td>COVID 19</td>\n",
       "    </tr>\n",
       "    <tr>\n",
       "      <th>5</th>\n",
       "      <td>EDA</td>\n",
       "    </tr>\n",
       "    <tr>\n",
       "      <th>6</th>\n",
       "      <td>missing values</td>\n",
       "    </tr>\n",
       "    <tr>\n",
       "      <th>7</th>\n",
       "      <td>outliers</td>\n",
       "    </tr>\n",
       "  </tbody>\n",
       "</table>\n",
       "</div>"
      ],
      "text/plain": [
       "               keyword\n",
       "0    linear regression\n",
       "1  binary classication\n",
       "2        visualization\n",
       "3              poverty\n",
       "4             COVID 19\n",
       "5                  EDA\n",
       "6       missing values\n",
       "7             outliers"
      ]
     },
     "execution_count": 102,
     "metadata": {},
     "output_type": "execute_result"
    }
   ],
   "source": [
    "#Cargar lista de palabras clave:\n",
    "kwDF = pd.read_csv('keywords.csv', header=None, names=['keyword']) # archivo sin encabezado\n",
    "\n",
    "print(\"Cantidad de palabras clave: \", kwDF.shape[0])\n",
    "\n",
    "kwDF"
   ]
  },
  {
   "cell_type": "markdown",
   "metadata": {
    "id": "mK5c-IkXaZCB"
   },
   "source": [
    "<div style=\"background-color: #FFFF99; border-color: #7C9DBF; border-left: 5px solid #7C9DBF; padding: 0.5em;\">\n",
    "\n",
    "<b> Ejercicio: (1 pto) </b>\n",
    "\n",
    "<b>Objetivo:</b> Convertir los términos de varias palabras (separadas con espacio ' '), a términos cuyas palabras estén separadas con el signo '-'\n",
    "\n",
    "<b>Requisito:</b> La lista deberá llamarse  <i>kw</i>.\n",
    "\n",
    "<b>Salida esperada:</b> Objeto tipo lista que contenga los términos preprocesados.\n",
    "\n",
    "Por ejemplo, para el primer caso, en lugar de \"linear regression\" se debe generar el término \"linear_regression\"\n",
    "\n",
    "</div>\n",
    "\n"
   ]
  },
  {
   "cell_type": "code",
   "execution_count": 103,
   "metadata": {
    "colab": {
     "base_uri": "https://localhost:8080/"
    },
    "id": "AYKwU3QIaZCC",
    "outputId": "99d8abc5-83c0-41ce-cfee-3d9d6bbfc775"
   },
   "outputs": [
    {
     "name": "stdout",
     "output_type": "stream",
     "text": [
      "['linear_regression', 'binary_classication', 'visualization', 'poverty', 'COVID_19', 'EDA', 'missing_values', 'outliers']\n"
     ]
    }
   ],
   "source": [
    "######################\n",
    "# SOLUCIÓN\n",
    "#####################\n",
    "\n",
    "nfilas=len(kwDF)        #Numero de filas del dataframe con los Keywords.\n",
    "rango=range(0,nfilas)   #Rango desde cero hasta el numero de filas (0 a 8).\n",
    "kw=[]                   #Lista vacia para almacenar los palabras keywords con guiones.\n",
    "\n",
    "for fila in rango:                                       #Ciclo for para recorrer todas las filas del dataframe kwDF.\n",
    "    palabra=kwDF.loc[fila][\"keyword\"].replace(' ','_')   #Se reemplaza el espacio de cada keyword por un signo '_'.\n",
    "    kw.append(palabra)                                   #Se añaden los keywords a la lista kw.\n",
    "print(kw)                                                #Se imprime la lista kw para verificar los cambios."
   ]
  },
  {
   "cell_type": "markdown",
   "metadata": {
    "id": "C4JhWLx4aZCC"
   },
   "source": [
    "## Paso 2: Extracción de datos mediante API\n",
    "\n",
    "\n"
   ]
  },
  {
   "cell_type": "markdown",
   "metadata": {
    "id": "0vb36fIxaZCD"
   },
   "source": [
    "### Paso 2.1. Extracción de datos desde Kaggle\n",
    "\n",
    "Consultar Documentación de la API: https://github.com/Kaggle/kaggle-api\n",
    "\n",
    "Luego de la revisión de la documentación, intentar comprender el procedimiento para obtener datasets y notebooks, con el objetivo de obtener las salidas que se esperan de cada ejercicio.\n"
   ]
  },
  {
   "cell_type": "markdown",
   "metadata": {
    "id": "xHH9mQ2IaZCF"
   },
   "source": [
    "### Preparar el request (importar libraries y definir parámetros generales)"
   ]
  },
  {
   "cell_type": "code",
   "execution_count": 104,
   "metadata": {
    "id": "BGFsgdhLaZCF"
   },
   "outputs": [],
   "source": [
    "import requests, json, time, random\n",
    "# importar libreria kaggle\n",
    "from kaggle.api.kaggle_api_extended import KaggleApi\n",
    "\n"
   ]
  },
  {
   "cell_type": "code",
   "execution_count": 105,
   "metadata": {
    "id": "0pHufYNraZCG"
   },
   "outputs": [],
   "source": [
    "# Llamar a la api key de kaggle instalada en el entorno seleccionado.\n",
    "\n",
    "api = KaggleApi()\n",
    "api.authenticate()"
   ]
  },
  {
   "cell_type": "markdown",
   "metadata": {
    "id": "MYTUuiDRaZCG"
   },
   "source": [
    "Aunque la documentación de la API explica el proceso de consumo de datos, a continuación se presenta un ejemplo de extracción de metadatos de dataset. Observe los metadatos que devuelve la API y pruebe cómo obtendría los metadatos de notebooks.\n",
    "\n",
    "\n",
    "A partir del ejemplo planteado, desarrolle los ejercicios que continuan."
   ]
  },
  {
   "cell_type": "code",
   "execution_count": 106,
   "metadata": {
    "colab": {
     "base_uri": "https://localhost:8080/"
    },
    "id": "LBsjskuSaZCG",
    "outputId": "5355f1ba-f977-4a2c-a3d6-40fa6c3bfc87"
   },
   "outputs": [
    {
     "data": {
      "text/plain": [
       "['ref,title,size,lastUpdated,downloadCount,voteCount,usabilityRating',\n",
       " 'aml0ali2000/linear-regression,Linear_regression,1KB,2023-12-04 14:34:14,7,2,0.3529412',\n",
       " 'kasiviswanath00/linear-regression,linear_regression,378B,2022-05-25 12:08:15,15,2,0.1764706',\n",
       " 'drakedyban/mediumlinear-regression,Medium-Linear_Regression,5KB,2021-02-28 22:37:25,19,1,0.4375',\n",
       " 'sangitamule/linear-regressionproject,/Linear_Regression-Project,40KB,2022-02-03 06:41:39,14,2,0.29411766']"
      ]
     },
     "execution_count": 106,
     "metadata": {},
     "output_type": "execute_result"
    }
   ],
   "source": [
    "# Ejemplo de uso de la API:\n",
    "\n",
    "# Extracción de datasets:\n",
    "tema = kw[0]  # toma el primer término o palabra que se cargó desde el csv\n",
    "page = 1  # obtener los datos de la primera página, se puede cambiar iterativamente este valor para recuperar más resultados\n",
    "\n",
    "#Llamada para obtener metadatos de datasets de un tema en particular y de una página específica.\n",
    "lista = !kaggle datasets list -s $tema --csv -p $page  \n",
    "results=[l for l in lista if len(l)]       #Se filtran los resultados para que no se incluyan en la lista elementos vacios.\n",
    "results[:5]                                # Presentar los 5 primeros resutados en forma de lista"
   ]
  },
  {
   "cell_type": "code",
   "execution_count": 107,
   "metadata": {},
   "outputs": [
    {
     "data": {
      "text/html": [
       "<div>\n",
       "<style scoped>\n",
       "    .dataframe tbody tr th:only-of-type {\n",
       "        vertical-align: middle;\n",
       "    }\n",
       "\n",
       "    .dataframe tbody tr th {\n",
       "        vertical-align: top;\n",
       "    }\n",
       "\n",
       "    .dataframe thead th {\n",
       "        text-align: right;\n",
       "    }\n",
       "</style>\n",
       "<table border=\"1\" class=\"dataframe\">\n",
       "  <thead>\n",
       "    <tr style=\"text-align: right;\">\n",
       "      <th></th>\n",
       "      <th>ref</th>\n",
       "      <th>title</th>\n",
       "      <th>size</th>\n",
       "      <th>lastUpdated</th>\n",
       "      <th>downloadCount</th>\n",
       "      <th>voteCount</th>\n",
       "      <th>usabilityRating</th>\n",
       "    </tr>\n",
       "  </thead>\n",
       "  <tbody>\n",
       "    <tr>\n",
       "      <th>1</th>\n",
       "      <td>aml0ali2000/linear-regression</td>\n",
       "      <td>Linear_regression</td>\n",
       "      <td>1KB</td>\n",
       "      <td>2023-12-04 14:34:14</td>\n",
       "      <td>7</td>\n",
       "      <td>2</td>\n",
       "      <td>0.3529412</td>\n",
       "    </tr>\n",
       "    <tr>\n",
       "      <th>2</th>\n",
       "      <td>kasiviswanath00/linear-regression</td>\n",
       "      <td>linear_regression</td>\n",
       "      <td>378B</td>\n",
       "      <td>2022-05-25 12:08:15</td>\n",
       "      <td>15</td>\n",
       "      <td>2</td>\n",
       "      <td>0.1764706</td>\n",
       "    </tr>\n",
       "    <tr>\n",
       "      <th>3</th>\n",
       "      <td>drakedyban/mediumlinear-regression</td>\n",
       "      <td>Medium-Linear_Regression</td>\n",
       "      <td>5KB</td>\n",
       "      <td>2021-02-28 22:37:25</td>\n",
       "      <td>19</td>\n",
       "      <td>1</td>\n",
       "      <td>0.4375</td>\n",
       "    </tr>\n",
       "    <tr>\n",
       "      <th>4</th>\n",
       "      <td>sangitamule/linear-regressionproject</td>\n",
       "      <td>/Linear_Regression-Project</td>\n",
       "      <td>40KB</td>\n",
       "      <td>2022-02-03 06:41:39</td>\n",
       "      <td>14</td>\n",
       "      <td>2</td>\n",
       "      <td>0.29411766</td>\n",
       "    </tr>\n",
       "    <tr>\n",
       "      <th>5</th>\n",
       "      <td>krishnamohanmaurya/linear-regression</td>\n",
       "      <td>Linear_Regression</td>\n",
       "      <td>5KB</td>\n",
       "      <td>2023-02-27 14:38:50</td>\n",
       "      <td>7</td>\n",
       "      <td>2</td>\n",
       "      <td>0.1764706</td>\n",
       "    </tr>\n",
       "  </tbody>\n",
       "</table>\n",
       "</div>"
      ],
      "text/plain": [
       "                                    ref                       title  size  \\\n",
       "1         aml0ali2000/linear-regression           Linear_regression   1KB   \n",
       "2     kasiviswanath00/linear-regression           linear_regression  378B   \n",
       "3    drakedyban/mediumlinear-regression    Medium-Linear_Regression   5KB   \n",
       "4  sangitamule/linear-regressionproject  /Linear_Regression-Project  40KB   \n",
       "5  krishnamohanmaurya/linear-regression           Linear_Regression   5KB   \n",
       "\n",
       "           lastUpdated downloadCount voteCount usabilityRating  \n",
       "1  2023-12-04 14:34:14             7         2       0.3529412  \n",
       "2  2022-05-25 12:08:15            15         2       0.1764706  \n",
       "3  2021-02-28 22:37:25            19         1          0.4375  \n",
       "4  2022-02-03 06:41:39            14         2      0.29411766  \n",
       "5  2023-02-27 14:38:50             7         2       0.1764706  "
      ]
     },
     "execution_count": 107,
     "metadata": {},
     "output_type": "execute_result"
    }
   ],
   "source": [
    "# Pasos adicionales del ejemplo para mostrar los 5 primeros resultados en un DataFrame\n",
    "results2=[]             #Nueva lista vacía\n",
    "d=len(results)          #Numero de elementos de la lista de resultados de datasets\n",
    "r=range(0,d)            #Rango para la iteracion\n",
    "for i in r:                                #Ciclo repetitivo para recorrer toda la lista results\n",
    "    results_split=results[i].split(',')    #Se separan los elementos de cada posicion de la lista results\n",
    "    results2.append(results_split)         #Se añaden cada lista de elementos separados en la lista results2\n",
    "results_DF=pd.DataFrame(results2[1:d], columns=results2[0], index=r[1:d])   #Se transforma en dataframe la lista results2 (lista de listas)\n",
    "results_DF[:5]                             #Se muestran los primeros 5 resultados                                       "
   ]
  },
  {
   "cell_type": "markdown",
   "metadata": {
    "id": "B_JA8KqXaZCH"
   },
   "source": [
    "<div style=\"background-color: #FFFF99; border-color: #7C9DBF; border-left: 5px solid #7C9DBF; padding: 0.5em;\">\n",
    "\n",
    "<b> Ejercicio 2 (1.75 ptos): Obtención de metadatos de datasets.</b>\n",
    "\n",
    "<b>Objetivo:</b> Mediante un proceso repetitivo, recuperar los <b>datasets</b> que estén relacionados con las palabras clave contenidas en la lista de keywords previamente creada (<i>kw</i>).\n",
    "\n",
    "<b>Requisitos:</b>\n",
    "\n",
    "- Recorrer toda la lista de palabras clave para obtener todos los datasets que consten en las primeras 3 páginas (por cada palabra clave).\n",
    "- Acumular los resultados en una lista que se denomine <i> datasets </i>\n",
    "\n",
    "<b>Salida esperada:</b> Presentar los 10 primeros datasets recuperados.\n",
    "\n",
    "En el ejemplo, proporcionado arriba, puede ver una muestra de los resultados esperados.\n",
    "\n",
    "</div>"
   ]
  },
  {
   "cell_type": "code",
   "execution_count": 166,
   "metadata": {
    "id": "CknVrp43aZCH"
   },
   "outputs": [
    {
     "data": {
      "text/plain": [
       "['ref,title,size,lastUpdated,downloadCount,voteCount,usabilityRating',\n",
       " 'aml0ali2000/linear-regression,Linear_regression,1KB,2023-12-04 14:34:14,7,2,0.3529412',\n",
       " 'kasiviswanath00/linear-regression,linear_regression,378B,2022-05-25 12:08:15,15,2,0.1764706',\n",
       " 'drakedyban/mediumlinear-regression,Medium-Linear_Regression,5KB,2021-02-28 22:37:25,19,1,0.4375',\n",
       " 'sangitamule/linear-regressionproject,/Linear_Regression-Project,40KB,2022-02-03 06:41:39,14,2,0.29411766',\n",
       " 'krishnamohanmaurya/linear-regression,Linear_Regression,5KB,2023-02-27 14:38:50,7,2,0.1764706',\n",
       " 'iflahgulzar/linear-regression,linear_regression,8KB,2023-02-26 16:36:10,9,1,0.1764706',\n",
       " 'viveckrajasekar/linear-regression,Linear_Regression,13KB,2019-06-28 14:24:45,61,1,0.11764706',\n",
       " 'pankajsinghardh/linear-regression,linear_regression,213B,2023-08-27 05:40:10,6,0,0.3125',\n",
       " 'nurmannaz/linear-regression,linear_regression,220B,2022-03-01 21:17:06,14,0,0.1764706',\n",
       " 'epsitabose/linear-regression,linear_regression,2MB,2022-02-09 11:47:13,6,1,0.0',\n",
       " 'azeez01/multilinear-regression,Multi-Linear_regression,599B,2022-09-06 18:39:58,27,1,0.11764706',\n",
       " 'ameralyasin98/linear-regression,linear_regression,283B,2023-04-07 11:28:59,6,0,0.11764706',\n",
       " 'yashrana24/linear-regression,linear_regression,24KB,2023-01-29 13:09:37,5,0,0.0',\n",
       " 'nadaalhabbash/week6hw,Week6hw,426KB,2023-04-07 01:57:02,5,0,0.25',\n",
       " 'ref,title,size,lastUpdated,downloadCount,voteCount,usabilityRating',\n",
       " 'ariyoomotade/netflix-data-cleaning-analysis-and-visualization,\"Netflix Data: Cleaning, Analysis and Visualization\",270KB,2022-08-26 09:25:43,24761,345,1.0',\n",
       " 'ahsen1330/us-police-shootings,US Police Shootings,126KB,2020-07-30 04:23:34,14952,377,0.9705882',\n",
       " 'kalilurrahman/python-data-visualization-essentials-guide,Python Data Visualization Essentials Guide,2MB,2024-04-27 12:57:52,757,60,1.0',\n",
       " 'kaushiksuresh147/data-visualization-cheat-cheats-and-resources,Data Visualization Cheat sheets and Resources,127MB,2022-05-31 11:31:11,2981,231,0.875']"
      ]
     },
     "execution_count": 166,
     "metadata": {},
     "output_type": "execute_result"
    }
   ],
   "source": [
    "######################\n",
    "# SOLUCIÓN\n",
    "######################\n",
    "\n",
    "# Extracción de datasets:\n",
    "datasets=[]                     #Lista vacía para guardar todos los datasets\n",
    "rango2=range(1,4)               #Rango para el numero de paginas: 1,2 y 3.\n",
    "for fila in rango:                                 #Ciclo repetitivo para recorrer todas las keywords de la lista kw\n",
    "    for pagina in rango2:                          #Ciclo repetitivo para recorrer las paginas\n",
    "        tema = kw[fila]                            #Se toma cada keyword y se le asigna a la variable tema\n",
    "        page = pagina                              #Cada pagina se asigna a la variable page      \n",
    "        #Llamada para obtener metadatos de datasets de un tema y de una página específica. Los resultados se guardan en una lista.\n",
    "        lista = !kaggle datasets list -s $tema --csv -p $page \n",
    "        results=[l for l in lista if len(l) and l!='No datasets found']  #Se filtran los resultados para que no se incluyan elementos vacios.      \n",
    "        datasets.extend(results)                   #Los resultados de cada iteración se acumulan en la lista llamada datasets\n",
    "datasets[:20]                                      #Se presentan los primeros 10 resutados de la lista datasets"
   ]
  },
  {
   "cell_type": "code",
   "execution_count": 173,
   "metadata": {},
   "outputs": [
    {
     "data": {
      "text/plain": [
       "'ariyoomotade/netflix-data-cleaning-analysis-and-visualization,\"Netflix Data: Cleaning, Analysis and Visualization\",270KB,2022-08-26 09:25:43,24761,345,1.0'"
      ]
     },
     "execution_count": 173,
     "metadata": {},
     "output_type": "execute_result"
    }
   ],
   "source": [
    "datasets[16]"
   ]
  },
  {
   "cell_type": "code",
   "execution_count": 174,
   "metadata": {},
   "outputs": [
    {
     "data": {
      "text/plain": [
       "'ariyoomotade/netflix-data-cleaning-analysis-and-visualization\"Netflix Data: Cleaning, Analysis and Visualization\",270KB,2022-08-26 09:25:43,24761,345,1.0'"
      ]
     },
     "execution_count": 174,
     "metadata": {},
     "output_type": "execute_result"
    }
   ],
   "source": [
    "datasets[16].replace(',\"','\"')"
   ]
  },
  {
   "cell_type": "code",
   "execution_count": 157,
   "metadata": {},
   "outputs": [
    {
     "data": {
      "text/plain": [
       "['ref,title,size,lastUpdated,downloadCount,voteCount,usabilityRating',\n",
       " 'aml0ali2000/linear-regression,Linear_regression,1KB,2023-12-04 14:34:14,7,2,0.3529412',\n",
       " 'kasiviswanath00/linear-regression,linear_regression,378B,2022-05-25 12:08:15,15,2,0.1764706',\n",
       " 'drakedyban/mediumlinear-regression,Medium-Linear_Regression,5KB,2021-02-28 22:37:25,19,1,0.4375',\n",
       " 'sangitamule/linear-regressionproject,/Linear_Regression-Project,40KB,2022-02-03 06:41:39,14,2,0.29411766',\n",
       " 'krishnamohanmaurya/linear-regression,Linear_Regression,5KB,2023-02-27 14:38:50,7,2,0.1764706',\n",
       " 'iflahgulzar/linear-regression,linear_regression,8KB,2023-02-26 16:36:10,9,1,0.1764706',\n",
       " 'viveckrajasekar/linear-regression,Linear_Regression,13KB,2019-06-28 14:24:45,61,1,0.11764706',\n",
       " 'pankajsinghardh/linear-regression,linear_regression,213B,2023-08-27 05:40:10,6,0,0.3125',\n",
       " 'nurmannaz/linear-regression,linear_regression,220B,2022-03-01 21:17:06,14,0,0.1764706',\n",
       " 'epsitabose/linear-regression,linear_regression,2MB,2022-02-09 11:47:13,6,1,0.0',\n",
       " 'azeez01/multilinear-regression,Multi-Linear_regression,599B,2022-09-06 18:39:58,27,1,0.11764706',\n",
       " 'ameralyasin98/linear-regression,linear_regression,283B,2023-04-07 11:28:59,6,0,0.11764706',\n",
       " 'yashrana24/linear-regression,linear_regression,24KB,2023-01-29 13:09:37,5,0,0.0',\n",
       " 'nadaalhabbash/week6hw,Week6hw,426KB,2023-04-07 01:57:02,5,0,0.25',\n",
       " 'ref,title,size,lastUpdated,downloadCount,voteCount,usabilityRating',\n",
       " 'ariyoomotade/netflix-data-cleaning-analysis-and-visualization,\"Netflix Data: Cleaning, Analysis and Visualization\",270KB,2022-08-26 09:25:43,24761,345,1.0',\n",
       " 'ahsen1330/us-police-shootings,US Police Shootings,126KB,2020-07-30 04:23:34,14952,377,0.9705882',\n",
       " 'kalilurrahman/python-data-visualization-essentials-guide,Python Data Visualization Essentials Guide,2MB,2024-04-27 12:57:52,757,60,1.0',\n",
       " 'kaushiksuresh147/data-visualization-cheat-cheats-and-resources,Data Visualization Cheat sheets and Resources,127MB,2022-05-31 11:31:11,2981,231,0.875']"
      ]
     },
     "execution_count": 157,
     "metadata": {},
     "output_type": "execute_result"
    }
   ],
   "source": [
    "datasets[:20] "
   ]
  },
  {
   "cell_type": "code",
   "execution_count": 155,
   "metadata": {},
   "outputs": [
    {
     "data": {
      "text/html": [
       "<div>\n",
       "<style scoped>\n",
       "    .dataframe tbody tr th:only-of-type {\n",
       "        vertical-align: middle;\n",
       "    }\n",
       "\n",
       "    .dataframe tbody tr th {\n",
       "        vertical-align: top;\n",
       "    }\n",
       "\n",
       "    .dataframe thead th {\n",
       "        text-align: right;\n",
       "    }\n",
       "</style>\n",
       "<table border=\"1\" class=\"dataframe\">\n",
       "  <thead>\n",
       "    <tr style=\"text-align: right;\">\n",
       "      <th></th>\n",
       "      <th>0</th>\n",
       "      <th>1</th>\n",
       "      <th>2</th>\n",
       "      <th>3</th>\n",
       "      <th>4</th>\n",
       "      <th>5</th>\n",
       "      <th>6</th>\n",
       "      <th>7</th>\n",
       "    </tr>\n",
       "  </thead>\n",
       "  <tbody>\n",
       "    <tr>\n",
       "      <th>0</th>\n",
       "      <td>ref</td>\n",
       "      <td>title</td>\n",
       "      <td>size</td>\n",
       "      <td>lastUpdated</td>\n",
       "      <td>downloadCount</td>\n",
       "      <td>voteCount</td>\n",
       "      <td>usabilityRating</td>\n",
       "      <td>None</td>\n",
       "    </tr>\n",
       "    <tr>\n",
       "      <th>1</th>\n",
       "      <td>aml0ali2000/linear-regression</td>\n",
       "      <td>Linear_regression</td>\n",
       "      <td>1KB</td>\n",
       "      <td>2023-12-04 14:34:14</td>\n",
       "      <td>7</td>\n",
       "      <td>2</td>\n",
       "      <td>0.3529412</td>\n",
       "      <td>None</td>\n",
       "    </tr>\n",
       "    <tr>\n",
       "      <th>2</th>\n",
       "      <td>kasiviswanath00/linear-regression</td>\n",
       "      <td>linear_regression</td>\n",
       "      <td>378B</td>\n",
       "      <td>2022-05-25 12:08:15</td>\n",
       "      <td>15</td>\n",
       "      <td>2</td>\n",
       "      <td>0.1764706</td>\n",
       "      <td>None</td>\n",
       "    </tr>\n",
       "    <tr>\n",
       "      <th>3</th>\n",
       "      <td>drakedyban/mediumlinear-regression</td>\n",
       "      <td>Medium-Linear_Regression</td>\n",
       "      <td>5KB</td>\n",
       "      <td>2021-02-28 22:37:25</td>\n",
       "      <td>19</td>\n",
       "      <td>1</td>\n",
       "      <td>0.4375</td>\n",
       "      <td>None</td>\n",
       "    </tr>\n",
       "    <tr>\n",
       "      <th>4</th>\n",
       "      <td>sangitamule/linear-regressionproject</td>\n",
       "      <td>/Linear_Regression-Project</td>\n",
       "      <td>40KB</td>\n",
       "      <td>2022-02-03 06:41:39</td>\n",
       "      <td>14</td>\n",
       "      <td>2</td>\n",
       "      <td>0.29411766</td>\n",
       "      <td>None</td>\n",
       "    </tr>\n",
       "    <tr>\n",
       "      <th>5</th>\n",
       "      <td>krishnamohanmaurya/linear-regression</td>\n",
       "      <td>Linear_Regression</td>\n",
       "      <td>5KB</td>\n",
       "      <td>2023-02-27 14:38:50</td>\n",
       "      <td>7</td>\n",
       "      <td>2</td>\n",
       "      <td>0.1764706</td>\n",
       "      <td>None</td>\n",
       "    </tr>\n",
       "    <tr>\n",
       "      <th>6</th>\n",
       "      <td>iflahgulzar/linear-regression</td>\n",
       "      <td>linear_regression</td>\n",
       "      <td>8KB</td>\n",
       "      <td>2023-02-26 16:36:10</td>\n",
       "      <td>9</td>\n",
       "      <td>1</td>\n",
       "      <td>0.1764706</td>\n",
       "      <td>None</td>\n",
       "    </tr>\n",
       "    <tr>\n",
       "      <th>7</th>\n",
       "      <td>viveckrajasekar/linear-regression</td>\n",
       "      <td>Linear_Regression</td>\n",
       "      <td>13KB</td>\n",
       "      <td>2019-06-28 14:24:45</td>\n",
       "      <td>61</td>\n",
       "      <td>1</td>\n",
       "      <td>0.11764706</td>\n",
       "      <td>None</td>\n",
       "    </tr>\n",
       "    <tr>\n",
       "      <th>8</th>\n",
       "      <td>pankajsinghardh/linear-regression</td>\n",
       "      <td>linear_regression</td>\n",
       "      <td>213B</td>\n",
       "      <td>2023-08-27 05:40:10</td>\n",
       "      <td>6</td>\n",
       "      <td>0</td>\n",
       "      <td>0.3125</td>\n",
       "      <td>None</td>\n",
       "    </tr>\n",
       "    <tr>\n",
       "      <th>9</th>\n",
       "      <td>nurmannaz/linear-regression</td>\n",
       "      <td>linear_regression</td>\n",
       "      <td>220B</td>\n",
       "      <td>2022-03-01 21:17:06</td>\n",
       "      <td>14</td>\n",
       "      <td>0</td>\n",
       "      <td>0.1764706</td>\n",
       "      <td>None</td>\n",
       "    </tr>\n",
       "    <tr>\n",
       "      <th>10</th>\n",
       "      <td>epsitabose/linear-regression</td>\n",
       "      <td>linear_regression</td>\n",
       "      <td>2MB</td>\n",
       "      <td>2022-02-09 11:47:13</td>\n",
       "      <td>6</td>\n",
       "      <td>1</td>\n",
       "      <td>0.0</td>\n",
       "      <td>None</td>\n",
       "    </tr>\n",
       "    <tr>\n",
       "      <th>11</th>\n",
       "      <td>azeez01/multilinear-regression</td>\n",
       "      <td>Multi-Linear_regression</td>\n",
       "      <td>599B</td>\n",
       "      <td>2022-09-06 18:39:58</td>\n",
       "      <td>27</td>\n",
       "      <td>1</td>\n",
       "      <td>0.11764706</td>\n",
       "      <td>None</td>\n",
       "    </tr>\n",
       "    <tr>\n",
       "      <th>12</th>\n",
       "      <td>ameralyasin98/linear-regression</td>\n",
       "      <td>linear_regression</td>\n",
       "      <td>283B</td>\n",
       "      <td>2023-04-07 11:28:59</td>\n",
       "      <td>6</td>\n",
       "      <td>0</td>\n",
       "      <td>0.11764706</td>\n",
       "      <td>None</td>\n",
       "    </tr>\n",
       "    <tr>\n",
       "      <th>13</th>\n",
       "      <td>yashrana24/linear-regression</td>\n",
       "      <td>linear_regression</td>\n",
       "      <td>24KB</td>\n",
       "      <td>2023-01-29 13:09:37</td>\n",
       "      <td>5</td>\n",
       "      <td>0</td>\n",
       "      <td>0.0</td>\n",
       "      <td>None</td>\n",
       "    </tr>\n",
       "    <tr>\n",
       "      <th>14</th>\n",
       "      <td>nadaalhabbash/week6hw</td>\n",
       "      <td>Week6hw</td>\n",
       "      <td>426KB</td>\n",
       "      <td>2023-04-07 01:57:02</td>\n",
       "      <td>5</td>\n",
       "      <td>0</td>\n",
       "      <td>0.25</td>\n",
       "      <td>None</td>\n",
       "    </tr>\n",
       "    <tr>\n",
       "      <th>15</th>\n",
       "      <td>ref</td>\n",
       "      <td>title</td>\n",
       "      <td>size</td>\n",
       "      <td>lastUpdated</td>\n",
       "      <td>downloadCount</td>\n",
       "      <td>voteCount</td>\n",
       "      <td>usabilityRating</td>\n",
       "      <td>None</td>\n",
       "    </tr>\n",
       "    <tr>\n",
       "      <th>16</th>\n",
       "      <td>ariyoomotade/netflix-data-cleaning-analysis-an...</td>\n",
       "      <td>\"Netflix Data: Cleaning</td>\n",
       "      <td>Analysis and Visualization\"</td>\n",
       "      <td>270KB</td>\n",
       "      <td>2022-08-26 09:25:43</td>\n",
       "      <td>24759</td>\n",
       "      <td>345</td>\n",
       "      <td>1.0</td>\n",
       "    </tr>\n",
       "  </tbody>\n",
       "</table>\n",
       "</div>"
      ],
      "text/plain": [
       "                                                    0  \\\n",
       "0                                                 ref   \n",
       "1                       aml0ali2000/linear-regression   \n",
       "2                   kasiviswanath00/linear-regression   \n",
       "3                  drakedyban/mediumlinear-regression   \n",
       "4                sangitamule/linear-regressionproject   \n",
       "5                krishnamohanmaurya/linear-regression   \n",
       "6                       iflahgulzar/linear-regression   \n",
       "7                   viveckrajasekar/linear-regression   \n",
       "8                   pankajsinghardh/linear-regression   \n",
       "9                         nurmannaz/linear-regression   \n",
       "10                       epsitabose/linear-regression   \n",
       "11                     azeez01/multilinear-regression   \n",
       "12                    ameralyasin98/linear-regression   \n",
       "13                       yashrana24/linear-regression   \n",
       "14                              nadaalhabbash/week6hw   \n",
       "15                                                ref   \n",
       "16  ariyoomotade/netflix-data-cleaning-analysis-an...   \n",
       "\n",
       "                             1                             2  \\\n",
       "0                        title                          size   \n",
       "1            Linear_regression                           1KB   \n",
       "2            linear_regression                          378B   \n",
       "3     Medium-Linear_Regression                           5KB   \n",
       "4   /Linear_Regression-Project                          40KB   \n",
       "5            Linear_Regression                           5KB   \n",
       "6            linear_regression                           8KB   \n",
       "7            Linear_Regression                          13KB   \n",
       "8            linear_regression                          213B   \n",
       "9            linear_regression                          220B   \n",
       "10           linear_regression                           2MB   \n",
       "11     Multi-Linear_regression                          599B   \n",
       "12           linear_regression                          283B   \n",
       "13           linear_regression                          24KB   \n",
       "14                     Week6hw                         426KB   \n",
       "15                       title                          size   \n",
       "16     \"Netflix Data: Cleaning   Analysis and Visualization\"   \n",
       "\n",
       "                      3                    4          5                6     7  \n",
       "0           lastUpdated        downloadCount  voteCount  usabilityRating  None  \n",
       "1   2023-12-04 14:34:14                    7          2        0.3529412  None  \n",
       "2   2022-05-25 12:08:15                   15          2        0.1764706  None  \n",
       "3   2021-02-28 22:37:25                   19          1           0.4375  None  \n",
       "4   2022-02-03 06:41:39                   14          2       0.29411766  None  \n",
       "5   2023-02-27 14:38:50                    7          2        0.1764706  None  \n",
       "6   2023-02-26 16:36:10                    9          1        0.1764706  None  \n",
       "7   2019-06-28 14:24:45                   61          1       0.11764706  None  \n",
       "8   2023-08-27 05:40:10                    6          0           0.3125  None  \n",
       "9   2022-03-01 21:17:06                   14          0        0.1764706  None  \n",
       "10  2022-02-09 11:47:13                    6          1              0.0  None  \n",
       "11  2022-09-06 18:39:58                   27          1       0.11764706  None  \n",
       "12  2023-04-07 11:28:59                    6          0       0.11764706  None  \n",
       "13  2023-01-29 13:09:37                    5          0              0.0  None  \n",
       "14  2023-04-07 01:57:02                    5          0             0.25  None  \n",
       "15          lastUpdated        downloadCount  voteCount  usabilityRating  None  \n",
       "16                270KB  2022-08-26 09:25:43      24759              345   1.0  "
      ]
     },
     "execution_count": 155,
     "metadata": {},
     "output_type": "execute_result"
    }
   ],
   "source": [
    "# Pasos para mostrar los 10 primeros resultados de la lista datasets en un DataFrame\n",
    "datasets2=[]            #Nueva lista vacía\n",
    "dim=len(datasets)       #Numero de elementos de la lista datasets\n",
    "r3=range(0,dim-290)         #Rango para la iteracion\n",
    "for j in r3:                                #Ciclo repetitivo para recorrer toda la lista datasets\n",
    "    datasets_split=datasets[j].split(',')   #Se separan los elementos de cada posicion de la lista datasets\n",
    "    datasets2.append(datasets_split)        #Se añade cada lista de elementos separados en la lista datasets2\n",
    "datasets_DF=pd.DataFrame(datasets2)         #Se transforma en dataframe la lista datasets2 (lista de listas)\n",
    "datasets_DF                            #Se muestran los primeros 10 resultados   "
   ]
  },
  {
   "cell_type": "code",
   "execution_count": 146,
   "metadata": {},
   "outputs": [
    {
     "data": {
      "text/html": [
       "<div>\n",
       "<style scoped>\n",
       "    .dataframe tbody tr th:only-of-type {\n",
       "        vertical-align: middle;\n",
       "    }\n",
       "\n",
       "    .dataframe tbody tr th {\n",
       "        vertical-align: top;\n",
       "    }\n",
       "\n",
       "    .dataframe thead th {\n",
       "        text-align: right;\n",
       "    }\n",
       "</style>\n",
       "<table border=\"1\" class=\"dataframe\">\n",
       "  <thead>\n",
       "    <tr style=\"text-align: right;\">\n",
       "      <th></th>\n",
       "      <th>0</th>\n",
       "      <th>1</th>\n",
       "      <th>2</th>\n",
       "      <th>3</th>\n",
       "      <th>4</th>\n",
       "      <th>5</th>\n",
       "      <th>6</th>\n",
       "      <th>7</th>\n",
       "      <th>8</th>\n",
       "    </tr>\n",
       "  </thead>\n",
       "  <tbody>\n",
       "    <tr>\n",
       "      <th>0</th>\n",
       "      <td>ref</td>\n",
       "      <td>title</td>\n",
       "      <td>size</td>\n",
       "      <td>lastUpdated</td>\n",
       "      <td>downloadCount</td>\n",
       "      <td>voteCount</td>\n",
       "      <td>usabilityRating</td>\n",
       "      <td>None</td>\n",
       "      <td>None</td>\n",
       "    </tr>\n",
       "    <tr>\n",
       "      <th>1</th>\n",
       "      <td>aml0ali2000/linear-regression</td>\n",
       "      <td>Linear_regression</td>\n",
       "      <td>1KB</td>\n",
       "      <td>2023-12-04 14:34:14</td>\n",
       "      <td>7</td>\n",
       "      <td>2</td>\n",
       "      <td>0.3529412</td>\n",
       "      <td>None</td>\n",
       "      <td>None</td>\n",
       "    </tr>\n",
       "    <tr>\n",
       "      <th>2</th>\n",
       "      <td>kasiviswanath00/linear-regression</td>\n",
       "      <td>linear_regression</td>\n",
       "      <td>378B</td>\n",
       "      <td>2022-05-25 12:08:15</td>\n",
       "      <td>15</td>\n",
       "      <td>2</td>\n",
       "      <td>0.1764706</td>\n",
       "      <td>None</td>\n",
       "      <td>None</td>\n",
       "    </tr>\n",
       "    <tr>\n",
       "      <th>3</th>\n",
       "      <td>drakedyban/mediumlinear-regression</td>\n",
       "      <td>Medium-Linear_Regression</td>\n",
       "      <td>5KB</td>\n",
       "      <td>2021-02-28 22:37:25</td>\n",
       "      <td>19</td>\n",
       "      <td>1</td>\n",
       "      <td>0.4375</td>\n",
       "      <td>None</td>\n",
       "      <td>None</td>\n",
       "    </tr>\n",
       "    <tr>\n",
       "      <th>4</th>\n",
       "      <td>sangitamule/linear-regressionproject</td>\n",
       "      <td>/Linear_Regression-Project</td>\n",
       "      <td>40KB</td>\n",
       "      <td>2022-02-03 06:41:39</td>\n",
       "      <td>14</td>\n",
       "      <td>2</td>\n",
       "      <td>0.29411766</td>\n",
       "      <td>None</td>\n",
       "      <td>None</td>\n",
       "    </tr>\n",
       "    <tr>\n",
       "      <th>...</th>\n",
       "      <td>...</td>\n",
       "      <td>...</td>\n",
       "      <td>...</td>\n",
       "      <td>...</td>\n",
       "      <td>...</td>\n",
       "      <td>...</td>\n",
       "      <td>...</td>\n",
       "      <td>...</td>\n",
       "      <td>...</td>\n",
       "    </tr>\n",
       "    <tr>\n",
       "      <th>302</th>\n",
       "      <td>nihalbarua/dota2-competitive-picks</td>\n",
       "      <td>Dota 2 Competitive Picks</td>\n",
       "      <td>5KB</td>\n",
       "      <td>2024-02-28 08:34:11</td>\n",
       "      <td>617</td>\n",
       "      <td>41</td>\n",
       "      <td>1.0</td>\n",
       "      <td>None</td>\n",
       "      <td>None</td>\n",
       "    </tr>\n",
       "    <tr>\n",
       "      <th>303</th>\n",
       "      <td>krantiswalke/bankfullcsv</td>\n",
       "      <td>bank-full.csv (Ensemble Techniques)</td>\n",
       "      <td>481KB</td>\n",
       "      <td>2020-04-23 08:21:57</td>\n",
       "      <td>7991</td>\n",
       "      <td>48</td>\n",
       "      <td>0.64705884</td>\n",
       "      <td>None</td>\n",
       "      <td>None</td>\n",
       "    </tr>\n",
       "    <tr>\n",
       "      <th>304</th>\n",
       "      <td>chandramoulinaidu/house-price-prediction-clean...</td>\n",
       "      <td>House Price Prediction Cleaned Dataset</td>\n",
       "      <td>1MB</td>\n",
       "      <td>2021-03-12 06:18:35</td>\n",
       "      <td>1009</td>\n",
       "      <td>11</td>\n",
       "      <td>0.9411765</td>\n",
       "      <td>None</td>\n",
       "      <td>None</td>\n",
       "    </tr>\n",
       "    <tr>\n",
       "      <th>305</th>\n",
       "      <td>tamatoa/myimg</td>\n",
       "      <td>outliers</td>\n",
       "      <td>84KB</td>\n",
       "      <td>2017-11-04 11:52:35</td>\n",
       "      <td>37</td>\n",
       "      <td>0</td>\n",
       "      <td>0.4375</td>\n",
       "      <td>None</td>\n",
       "      <td>None</td>\n",
       "    </tr>\n",
       "    <tr>\n",
       "      <th>306</th>\n",
       "      <td>'charmap' codec can't encode characters in pos...</td>\n",
       "      <td>None</td>\n",
       "      <td>None</td>\n",
       "      <td>None</td>\n",
       "      <td>None</td>\n",
       "      <td>None</td>\n",
       "      <td>None</td>\n",
       "      <td>None</td>\n",
       "      <td>None</td>\n",
       "    </tr>\n",
       "  </tbody>\n",
       "</table>\n",
       "<p>307 rows × 9 columns</p>\n",
       "</div>"
      ],
      "text/plain": [
       "                                                     0  \\\n",
       "0                                                  ref   \n",
       "1                        aml0ali2000/linear-regression   \n",
       "2                    kasiviswanath00/linear-regression   \n",
       "3                   drakedyban/mediumlinear-regression   \n",
       "4                 sangitamule/linear-regressionproject   \n",
       "..                                                 ...   \n",
       "302                 nihalbarua/dota2-competitive-picks   \n",
       "303                           krantiswalke/bankfullcsv   \n",
       "304  chandramoulinaidu/house-price-prediction-clean...   \n",
       "305                                      tamatoa/myimg   \n",
       "306  'charmap' codec can't encode characters in pos...   \n",
       "\n",
       "                                          1      2                    3  \\\n",
       "0                                     title   size          lastUpdated   \n",
       "1                         Linear_regression    1KB  2023-12-04 14:34:14   \n",
       "2                         linear_regression   378B  2022-05-25 12:08:15   \n",
       "3                  Medium-Linear_Regression    5KB  2021-02-28 22:37:25   \n",
       "4                /Linear_Regression-Project   40KB  2022-02-03 06:41:39   \n",
       "..                                      ...    ...                  ...   \n",
       "302                Dota 2 Competitive Picks    5KB  2024-02-28 08:34:11   \n",
       "303     bank-full.csv (Ensemble Techniques)  481KB  2020-04-23 08:21:57   \n",
       "304  House Price Prediction Cleaned Dataset    1MB  2021-03-12 06:18:35   \n",
       "305                                outliers   84KB  2017-11-04 11:52:35   \n",
       "306                                    None   None                 None   \n",
       "\n",
       "                 4          5                6     7     8  \n",
       "0    downloadCount  voteCount  usabilityRating  None  None  \n",
       "1                7          2        0.3529412  None  None  \n",
       "2               15          2        0.1764706  None  None  \n",
       "3               19          1           0.4375  None  None  \n",
       "4               14          2       0.29411766  None  None  \n",
       "..             ...        ...              ...   ...   ...  \n",
       "302            617         41              1.0  None  None  \n",
       "303           7991         48       0.64705884  None  None  \n",
       "304           1009         11        0.9411765  None  None  \n",
       "305             37          0           0.4375  None  None  \n",
       "306           None       None             None  None  None  \n",
       "\n",
       "[307 rows x 9 columns]"
      ]
     },
     "execution_count": 146,
     "metadata": {},
     "output_type": "execute_result"
    }
   ],
   "source": [
    "z=[]\n",
    "for x in datasets:\n",
    "    y=x.split(',')\n",
    "    z.append(y)\n",
    "datasets_DF2=pd.DataFrame(z)\n",
    "datasets_DF2"
   ]
  },
  {
   "cell_type": "code",
   "execution_count": 139,
   "metadata": {},
   "outputs": [
    {
     "data": {
      "text/plain": [
       "[['ref',\n",
       "  'title',\n",
       "  'size',\n",
       "  'lastUpdated',\n",
       "  'downloadCount',\n",
       "  'voteCount',\n",
       "  'usabilityRating'],\n",
       " ['aml0ali2000/linear-regression',\n",
       "  'Linear_regression',\n",
       "  '1KB',\n",
       "  '2023-12-04 14:34:14',\n",
       "  '7',\n",
       "  '2',\n",
       "  '0.3529412']]"
      ]
     },
     "execution_count": 139,
     "metadata": {},
     "output_type": "execute_result"
    }
   ],
   "source": [
    "z"
   ]
  },
  {
   "cell_type": "markdown",
   "metadata": {
    "id": "YvSrdH36aZCI"
   },
   "source": [
    "<div style=\"background-color: #FFFF99; border-color: #7C9DBF; border-left: 5px solid #7C9DBF; padding: 0.5em;\">\n",
    "\n",
    "<b> Ejercicio 3 (1.75 puntos): Limpieza de metadatos de datasets.</b>\n",
    "\n",
    "<b>Objetivo:</b> Limpiar los metadatos de datasets de tal manera que no hayan elementos duplicados, ni hayan datos con valores inesperados.\n",
    "\n",
    "<b>Contexto:</b> Algunos datasets pueden repetirse en diferentes llamada, esto puede ocurrir cuando un dataset está asociado a varias palabras clave que constan en el archivo de keywords. Por ejemplo, si un dataset tiene dos palabras clave como: linear regression y COVID-19, entonces, va a salir en ambos resultados.\n",
    "\n",
    "<b>Requisitos:</b>\n",
    "\n",
    "- Recorrer la lista de resultados <i> datasets </i> y dejar solo resultados únicos de datasets.\n",
    "- Explorar los resultados obtenidos para verificar que los datos no contienen caracteres o elementos extraños.\n",
    "\n",
    "<b>Salida esperada:</b> Presentar los 10 primeros datasets únicos que han sido procesados.\n",
    "\n",
    "\n",
    "</div>"
   ]
  },
  {
   "cell_type": "code",
   "execution_count": null,
   "metadata": {
    "id": "CXRRB26caZCI"
   },
   "outputs": [],
   "source": [
    "######################\n",
    "# SOLUCIÓN\n",
    "######################\n",
    "\n"
   ]
  },
  {
   "cell_type": "markdown",
   "metadata": {
    "id": "I6ufgdIiaZCK"
   },
   "source": [
    "<div style=\"background-color: #FFFF99; border-color: #7C9DBF; border-left: 5px solid #7C9DBF; padding: 0.5em;\">\n",
    "\n",
    "<b> Ejercicio 4 (1.75 puntos): Obtención de metadatos de notebooks.</b>\n",
    "\n",
    "<b>Objetivo:</b> Mediante un proceso repetitivo, recuperar los <b>notebooks</b> que estén relacionados con las palabras clave contenidas en la lista de keywords previamente creada (<i>kw</i>). Este ejercicio es similar anterior, pero, la idea es centrarse en los notebooks.\n",
    "\n",
    "<b>Requisitos:</b>\n",
    "\n",
    "- Recorrer toda la lista de palabras clave para obtener todos los notebooks que consten en las primeras 3 páginas (por cada palabra clave).\n",
    "- Acumular los resultados en una lista que se denomine <i> notebooks </i>\n",
    "\n",
    "<b>Salida esperada:</b> Presentar los 10 primeros notebooks recuperados.\n",
    "\n",
    "</div>"
   ]
  },
  {
   "cell_type": "code",
   "execution_count": null,
   "metadata": {
    "id": "J268BLRgaZCK"
   },
   "outputs": [],
   "source": [
    "######################\n",
    "# SOLUCIÓN\n",
    "######################\n",
    "\n"
   ]
  },
  {
   "cell_type": "markdown",
   "metadata": {
    "id": "KZziTCBZaZCK"
   },
   "source": [
    "<div style=\"background-color: #FFFF99; border-color: #7C9DBF; border-left: 5px solid #7C9DBF; padding: 0.5em;\">\n",
    "\n",
    "<b> Ejercicio 5 (1.75 puntos): Limpieza de metadatos de notebooks.</b>\n",
    "\n",
    "<b>Objetivo:</b> Limpiar los metadatos de notebooks de tal manera que no hayan elementos duplicados, ni hayan datos con valores inesperados.\n",
    "\n",
    "<b>Contexto:</b> Algunos notebooks también pueden repetirse como se ha explicado previamente.\n",
    "\n",
    "<b>Requisitos:</b>\n",
    "\n",
    "- Recorrer la lista de resultados <i> notebooks </i> y dejar solo resultados únicos de notebooks.\n",
    "- Explorar los resultados obtenidos para verificar que los datos no contienen caracteres o elementos extraños.\n",
    "\n",
    "<b>Salida esperada:</b> Presentar los 10 primeros notebooks únicos que han sido procesados.\n",
    "\n",
    "\n",
    "</div>"
   ]
  },
  {
   "cell_type": "code",
   "execution_count": null,
   "metadata": {
    "id": "EVuR-RaaaZCK"
   },
   "outputs": [],
   "source": [
    "######################\n",
    "# SOLUCIÓN\n",
    "######################\n",
    "\n",
    "\n"
   ]
  },
  {
   "cell_type": "markdown",
   "metadata": {
    "id": "3xmoduncaZCL"
   },
   "source": [
    "### Paso 2.2: Integración de resultados"
   ]
  },
  {
   "cell_type": "markdown",
   "metadata": {
    "id": "M6F8KNJuaZCL"
   },
   "source": [
    "<div style=\"background-color: #FFFF99; border-color: #7C9DBF; border-left: 5px solid #7C9DBF; padding: 0.5em;\">\n",
    "\n",
    "<b> Ejercicio 6 (2 ptos): Integración de datos obtenidos (tanto de datasets y notebooks) </b>\n",
    "\n",
    "<b>Objetivo:</b> Crear un dataframe único donde consten los datos de los datasets como de los notebooks.\n",
    "\n",
    "<b>Requisitos:</b>\n",
    "\n",
    "- A partir de la estructuras de datos <i> datasets </i> y <i> notebooks </i>, determinar cuáles los atributos comunes y cuáles son diferentes para crear una sola estructura tipo dataframe que almacene todos los datos extraídos.\n",
    "\n",
    "<b>Salida esperada:</b> Presentar un <i>sample</i> de 10 elementos que consten en el dataframe único\n",
    "\n",
    "\n",
    "</div>"
   ]
  },
  {
   "cell_type": "code",
   "execution_count": null,
   "metadata": {
    "id": "dwgU4fEkaZCM"
   },
   "outputs": [],
   "source": [
    "######################\n",
    "# SOLUCIÓN\n",
    "######################"
   ]
  }
 ],
 "metadata": {
  "colab": {
   "provenance": []
  },
  "finalized": {
   "timestamp": 1621297898005,
   "trusted": true
  },
  "kernelspec": {
   "display_name": "Python 3 (ipykernel)",
   "language": "python",
   "name": "python3"
  },
  "language_info": {
   "codemirror_mode": {
    "name": "ipython",
    "version": 3
   },
   "file_extension": ".py",
   "mimetype": "text/x-python",
   "name": "python",
   "nbconvert_exporter": "python",
   "pygments_lexer": "ipython3",
   "version": "3.10.9"
  },
  "require": {
   "paths": {
    "buttons.colvis": "https://cdn.datatables.net/buttons/1.5.6/js/buttons.colVis.min",
    "buttons.flash": "https://cdn.datatables.net/buttons/1.5.6/js/buttons.flash.min",
    "buttons.html5": "https://cdn.datatables.net/buttons/1.5.6/js/buttons.html5.min",
    "buttons.print": "https://cdn.datatables.net/buttons/1.5.6/js/buttons.print.min",
    "chartjs": "https://cdnjs.cloudflare.com/ajax/libs/Chart.js/2.8.0/Chart",
    "d3": "https://d3js.org/d3.v5.min",
    "d3-array": "https://d3js.org/d3-array.v2.min",
    "datatables.net": "https://cdn.datatables.net/1.10.18/js/jquery.dataTables",
    "datatables.net-buttons": "https://cdn.datatables.net/buttons/1.5.6/js/dataTables.buttons.min",
    "datatables.responsive": "https://cdn.datatables.net/responsive/2.2.2/js/dataTables.responsive.min",
    "datatables.scroller": "https://cdn.datatables.net/scroller/2.0.0/js/dataTables.scroller.min",
    "datatables.select": "https://cdn.datatables.net/select/1.3.0/js/dataTables.select.min",
    "jszip": "https://cdnjs.cloudflare.com/ajax/libs/jszip/2.5.0/jszip.min",
    "moment": "https://cdnjs.cloudflare.com/ajax/libs/moment.js/2.8.0/moment",
    "pdfmake": "https://cdnjs.cloudflare.com/ajax/libs/pdfmake/0.1.36/pdfmake.min",
    "vfsfonts": "https://cdnjs.cloudflare.com/ajax/libs/pdfmake/0.1.36/vfs_fonts"
   },
   "shim": {
    "buttons.colvis": {
     "deps": [
      "jszip",
      "datatables.net-buttons"
     ]
    },
    "buttons.flash": {
     "deps": [
      "jszip",
      "datatables.net-buttons"
     ]
    },
    "buttons.html5": {
     "deps": [
      "jszip",
      "datatables.net-buttons"
     ]
    },
    "buttons.print": {
     "deps": [
      "jszip",
      "datatables.net-buttons"
     ]
    },
    "chartjs": {
     "deps": [
      "moment"
     ]
    },
    "datatables.net": {
     "exports": "$.fn.dataTable"
    },
    "datatables.net-buttons": {
     "deps": [
      "datatables.net"
     ]
    },
    "pdfmake": {
     "deps": [
      "datatables.net"
     ]
    },
    "vfsfonts": {
     "deps": [
      "datatables.net"
     ]
    }
   }
  }
 },
 "nbformat": 4,
 "nbformat_minor": 4
}
