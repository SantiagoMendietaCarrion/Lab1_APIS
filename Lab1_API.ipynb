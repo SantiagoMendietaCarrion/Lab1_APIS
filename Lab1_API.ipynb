{
 "cells": [
  {
   "cell_type": "markdown",
   "metadata": {
    "id": "_Wgigj_IaZB6"
   },
   "source": [
    "<div style=\"width: 100%; clear: both;\">\n",
    "<div style=\"float: left; width: 30%;\">\n",
    "<img src=\"https://www.utpl.edu.ec/sites/default/files/archivos/marca%20UTPL%202018-02.png\", align=\"left\" width=\"280\" height=\"120\">\n",
    "</div>\n",
    "</div>\n",
    "<div style=\"float: right; width: 70%;\">\n",
    "<p style=\"margin: 0; padding-top: 32px; text-align:right; color:#003366; font-size:16px\"><u>Análisis de datos y visualización</u></p>\n",
    "<p style=\"margin: 0; text-align:right; color:#999999; font-size:17px\">Maestría en Inteligencia Artificial Aplicada</p>\n",
    "</div>\n",
    "</div>\n",
    "<div style=\"width: 100%; clear: both;\">\n",
    "<div style=\"width:100%;\">&nbsp;</div>\n",
    "\n",
    "\n",
    "# Laboratorio 1: Extracción de datos mediante APIs\n",
    "\n",
    "La actividad práctico experimental tiene como objetivo validar su habilidad para usar APIs públicas para la extracción de datos.\n",
    "\n",
    "Desarrolle los ejercicios relacionados con la extracción y procesamiento de datos planteados en el notebook.\n",
    "\n",
    "Por cada ejercicio revise las indicaciones proporcionadas, para conseguir así el resultado que se espera.\n",
    "\n",
    "\n",
    "<b>Entregable de la actividad:</b>\n",
    "\n",
    "En la tarea habilitada, suba el notebook con la solución (en formato html o pdf). Antes de subir la solución verifique que consten todas las salidas que se esperan de cada ejercicio.\n"
   ]
  },
  {
   "cell_type": "markdown",
   "metadata": {
    "id": "x97WwfMzdd95"
   },
   "source": [
    "## Paso 1: Configuración de acceso a API de Kaggle\n",
    "\n",
    "<b>Objetivo:</b> Conseguir un API token para comenzar a extraer los datos desde Kaggle.\n",
    "\n",
    "<b>Pasos:</b>\n",
    "\n",
    "1. Crear cuenta en Kaggle: https://www.kaggle.com/account/login\n",
    "2. Revisar la documentación de la API: https://www.kaggle.com/docs/api y seguir los pasos que constan en la sección <b>Authentication</b> para conseguir un API token. Según la documentación:\n",
    "\n",
    "&emsp;&emsp;&emsp;- <i>In order to use the Kaggle’s public API, you must first authenticate using an API token. Go to the 'Account' tab of your user profile and select 'Create New Token'. This will trigger the download of kaggle.json, a file containing your API credentials.</i>\n",
    "\n",
    "&emsp;&emsp;&emsp;Como resultado de esta acción guardar el archivo <b>kaggle.json</b>.\n",
    "\n",
    "4. Configurar credenciales de acceso: Dependiendo del entorno en el que trabaje hay dos opciones para hacer la configuración:\n",
    "\n",
    "&emsp;&emsp;4.1. Si es un entorno local, la documentación indica que hay que copiar el archivo kaggle.json en un directorio específico, según la siguiente instrucción.\n",
    "\n",
    "- <i>If you are using the Kaggle CLI tool, the tool will look for this token at ~/.kaggle/kaggle.json on Linux, OSX, and other UNIX-based operating systems, and at C:\\Users\\<Windows-username>\\.kaggle\\kaggle.json on Windows. If the token is not there, an error will be raised. Hence, once you’ve downloaded the token, you should move it from your Downloads folder to this folder.</i>\n",
    "\n",
    "\n",
    "&emsp;&emsp;4.2. Si es en Google Colab: ejecutar los siguientes pasos cada vez que ingrese a Google Colab.\n",
    "   "
   ]
  },
  {
   "cell_type": "code",
   "execution_count": 4,
   "metadata": {
    "id": "0b9K1x9vbcxG"
   },
   "outputs": [],
   "source": [
    "# Ejecutar estos pasos, sólo si trabaja en Google Colab, sino quitar celda o documentar.\n",
    "\n",
    "#!mkdir ~/.kaggle\n",
    "#!touch ~/.kaggle/kaggle.json\n",
    "\n",
    "#Rellenar la siguiente línea con la cuenta personal de acceso a Kaggle y el token asignado:\n",
    "#api_token = {\"username\":\"TO FILL\",\"key\":\"TO FILL\"}\n",
    "\n",
    "#import json\n",
    "\n",
    "#with open('/root/.kaggle/kaggle.json', 'w') as file:\n",
    "#    json.dump(api_token, file)\n",
    "\n",
    "#!chmod 600 ~/.kaggle/kaggle.json"
   ]
  },
  {
   "cell_type": "code",
   "execution_count": null,
   "metadata": {
    "colab": {
     "base_uri": "https://localhost:8080/"
    },
    "id": "CvIR7OKJcLIW",
    "outputId": "044c04c1-d513-4801-a1b0-63fa0f3b2704"
   },
   "outputs": [],
   "source": [
    "# En caso de que trabaje en Google Colab, instalar cada vez la librería KAGGLE, o una única vez si es en entorno local:\n",
    "\n",
    "#!pip install kaggle"
   ]
  },
  {
   "cell_type": "code",
   "execution_count": null,
   "metadata": {
    "id": "Sh01J5JNaZB-"
   },
   "outputs": [],
   "source": [
    "# Carga de librerías\n",
    "import kaggle\n",
    "import numpy as np\n",
    "import pandas as pd\n",
    "import numpy as np\n",
    "import matplotlib.pyplot as plt\n",
    "import os\n",
    "import itertools\n",
    "import time\n",
    "from PIL import Image\n",
    "from IPython.core import display as ICD\n",
    "%matplotlib inline"
   ]
  },
  {
   "cell_type": "markdown",
   "metadata": {
    "id": "LTnSnTnQaZB_"
   },
   "source": [
    "## Paso 2: Carga de palabras clave para realizar la búsqueda\n",
    "\n",
    "Objetivo: Cargar archivo de palabras clave y crear lista que sea procesable por la API"
   ]
  },
  {
   "cell_type": "code",
   "execution_count": null,
   "metadata": {
    "colab": {
     "base_uri": "https://localhost:8080/",
     "height": 256
    },
    "id": "ULqyuCfsaZB_",
    "outputId": "f228475b-4be7-472c-b4b1-13b1a3f1196b"
   },
   "outputs": [],
   "source": [
    "#Cargar lista de palabras clave:\n",
    "kwDF = pd.read_csv('keywords.csv', header=None, names=['keyword']) # archivo sin encabezado\n",
    "\n",
    "print(\"Cantidad de palabras clave: \", kwDF.shape[0])\n",
    "\n",
    "kwDF"
   ]
  },
  {
   "cell_type": "markdown",
   "metadata": {
    "id": "mK5c-IkXaZCB"
   },
   "source": [
    "<div style=\"background-color: #FFFF99; border-color: #7C9DBF; border-left: 5px solid #7C9DBF; padding: 0.5em;\">\n",
    "\n",
    "<b> Ejercicio: (1 pto) </b>\n",
    "\n",
    "<b>Objetivo:</b> Convertir los términos de varias palabras (separadas con espacio ' '), a términos cuyas palabras estén separadas con el signo '-'\n",
    "\n",
    "<b>Requisito:</b> La lista deberá llamarse  <i>kw</i>.\n",
    "\n",
    "<b>Salida esperada:</b> Objeto tipo lista que contenga los términos preprocesados.\n",
    "\n",
    "Por ejemplo, para el primer caso, en lugar de \"linear regression\" se debe generar el término \"linear_regression\"\n",
    "\n",
    "</div>\n",
    "\n"
   ]
  },
  {
   "cell_type": "code",
   "execution_count": 6,
   "metadata": {
    "colab": {
     "base_uri": "https://localhost:8080/"
    },
    "id": "AYKwU3QIaZCC",
    "outputId": "99d8abc5-83c0-41ce-cfee-3d9d6bbfc775"
   },
   "outputs": [],
   "source": [
    "######################\n",
    "# SOLUCIÓN\n",
    "######################\n"
   ]
  },
  {
   "cell_type": "markdown",
   "metadata": {
    "id": "C4JhWLx4aZCC"
   },
   "source": [
    "## Paso 2: Extracción de datos mediante API\n",
    "\n",
    "\n"
   ]
  },
  {
   "cell_type": "markdown",
   "metadata": {
    "id": "0vb36fIxaZCD"
   },
   "source": [
    "### Paso 2.1. Extracción de datos desde Kaggle\n",
    "\n",
    "Consultar Documentación de la API: https://github.com/Kaggle/kaggle-api\n",
    "\n",
    "Luego de la revisión de la documentación, intentar comprender el procedimiento para obtener datasets y notebooks, con el objetivo de obtener las salidas que se esperan de cada ejercicio.\n"
   ]
  },
  {
   "cell_type": "markdown",
   "metadata": {
    "id": "xHH9mQ2IaZCF"
   },
   "source": [
    "### Preparar el request (importar libraries y definir parámetros generales)"
   ]
  },
  {
   "cell_type": "code",
   "execution_count": null,
   "metadata": {
    "id": "BGFsgdhLaZCF"
   },
   "outputs": [],
   "source": [
    "import requests, json, time, random\n",
    "# importar libreria kaggle\n",
    "from kaggle.api.kaggle_api_extended import KaggleApi\n",
    "\n"
   ]
  },
  {
   "cell_type": "code",
   "execution_count": null,
   "metadata": {
    "id": "0pHufYNraZCG"
   },
   "outputs": [],
   "source": [
    "# Llamar a la api key de kaggle instalada en el entorno seleccionado.\n",
    "\n",
    "api = KaggleApi()\n",
    "api.authenticate()"
   ]
  },
  {
   "cell_type": "markdown",
   "metadata": {
    "id": "MYTUuiDRaZCG"
   },
   "source": [
    "Aunque la documentación de la API explica el proceso de consumo de datos, a continuación se presenta un ejemplo de extracción de metadatos de dataset. Observe los metadatos que devuelve la API y pruebe cómo obtendría los metadatos de notebooks.\n",
    "\n",
    "\n",
    "A partir del ejemplo planteado, desarrolle los ejercicios que continuan."
   ]
  },
  {
   "cell_type": "code",
   "execution_count": null,
   "metadata": {
    "colab": {
     "base_uri": "https://localhost:8080/"
    },
    "id": "LBsjskuSaZCG",
    "outputId": "5355f1ba-f977-4a2c-a3d6-40fa6c3bfc87"
   },
   "outputs": [],
   "source": [
    "# Ejemplo de uso de la API:\n",
    "\n",
    "# Extracción de datasets:\n",
    "tema = kw[0]  # toma el primer término o palabra que se cargó desde el csv\n",
    "page = 1  # obtener los datos de la primera página, se puede cambiar iterativamente este valor para recuperar más resultados\n",
    "results = !kaggle datasets list -s $tema --csv -p $page # Llamada para obtener metadatos de datasets de un tema en particular y de una página específica.\n",
    "results[:5] # Presentar los 5 primeros resutados"
   ]
  },
  {
   "cell_type": "markdown",
   "metadata": {
    "id": "B_JA8KqXaZCH"
   },
   "source": [
    "<div style=\"background-color: #FFFF99; border-color: #7C9DBF; border-left: 5px solid #7C9DBF; padding: 0.5em;\">\n",
    "\n",
    "<b> Ejercicio 2 (1.75 ptos): Obtención de metadatos de datasets.</b>\n",
    "\n",
    "<b>Objetivo:</b> Mediante un proceso repetitivo, recuperar los <b>datasets</b> que estén relacionados con las palabras clave contenidas en la lista de keywords previamente creada (<i>kw</i>).\n",
    "\n",
    "<b>Requisitos:</b>\n",
    "\n",
    "- Recorrer toda la lista de palabras clave para obtener todos los datasets que consten en las primeras 3 páginas (por cada palabra clave).\n",
    "- Acumular los resultados en una lista que se denomine <i> datasets </i>\n",
    "\n",
    "<b>Salida esperada:</b> Presentar los 10 primeros datasets recuperados.\n",
    "\n",
    "En el ejemplo, proporcionado arriba, puede ver una muestra de los resultados esperados.\n",
    "\n",
    "</div>"
   ]
  },
  {
   "cell_type": "code",
   "execution_count": null,
   "metadata": {
    "id": "CknVrp43aZCH"
   },
   "outputs": [],
   "source": [
    "######################\n",
    "# SOLUCIÓN\n",
    "######################\n",
    "\n"
   ]
  },
  {
   "cell_type": "markdown",
   "metadata": {
    "id": "YvSrdH36aZCI"
   },
   "source": [
    "<div style=\"background-color: #FFFF99; border-color: #7C9DBF; border-left: 5px solid #7C9DBF; padding: 0.5em;\">\n",
    "\n",
    "<b> Ejercicio 3 (1.75 puntos): Limpieza de metadatos de datasets.</b>\n",
    "\n",
    "<b>Objetivo:</b> Limpiar los metadatos de datasets de tal manera que no hayan elementos duplicados, ni hayan datos con valores inesperados.\n",
    "\n",
    "<b>Contexto:</b> Algunos datasets pueden repetirse en diferentes llamada, esto puede ocurrir cuando un dataset está asociado a varias palabras clave que constan en el archivo de keywords. Por ejemplo, si un dataset tiene dos palabras clave como: linear regression y COVID-19, entonces, va a salir en ambos resultados.\n",
    "\n",
    "<b>Requisitos:</b>\n",
    "\n",
    "- Recorrer la lista de resultados <i> datasets </i> y dejar solo resultados únicos de datasets.\n",
    "- Explorar los resultados obtenidos para verificar que los datos no contienen caracteres o elementos extraños.\n",
    "\n",
    "<b>Salida esperada:</b> Presentar los 10 primeros datasets únicos que han sido procesados.\n",
    "\n",
    "\n",
    "</div>"
   ]
  },
  {
   "cell_type": "code",
   "execution_count": null,
   "metadata": {
    "id": "CXRRB26caZCI"
   },
   "outputs": [],
   "source": [
    "######################\n",
    "# SOLUCIÓN\n",
    "######################\n",
    "\n"
   ]
  },
  {
   "cell_type": "markdown",
   "metadata": {
    "id": "I6ufgdIiaZCK"
   },
   "source": [
    "<div style=\"background-color: #FFFF99; border-color: #7C9DBF; border-left: 5px solid #7C9DBF; padding: 0.5em;\">\n",
    "\n",
    "<b> Ejercicio 4 (1.75 puntos): Obtención de metadatos de notebooks.</b>\n",
    "\n",
    "<b>Objetivo:</b> Mediante un proceso repetitivo, recuperar los <b>notebooks</b> que estén relacionados con las palabras clave contenidas en la lista de keywords previamente creada (<i>kw</i>). Este ejercicio es similar anterior, pero, la idea es centrarse en los notebooks.\n",
    "\n",
    "<b>Requisitos:</b>\n",
    "\n",
    "- Recorrer toda la lista de palabras clave para obtener todos los notebooks que consten en las primeras 3 páginas (por cada palabra clave).\n",
    "- Acumular los resultados en una lista que se denomine <i> notebooks </i>\n",
    "\n",
    "<b>Salida esperada:</b> Presentar los 10 primeros notebooks recuperados.\n",
    "\n",
    "</div>"
   ]
  },
  {
   "cell_type": "code",
   "execution_count": null,
   "metadata": {
    "id": "J268BLRgaZCK"
   },
   "outputs": [],
   "source": [
    "######################\n",
    "# SOLUCIÓN\n",
    "######################\n",
    "\n"
   ]
  },
  {
   "cell_type": "markdown",
   "metadata": {
    "id": "KZziTCBZaZCK"
   },
   "source": [
    "<div style=\"background-color: #FFFF99; border-color: #7C9DBF; border-left: 5px solid #7C9DBF; padding: 0.5em;\">\n",
    "\n",
    "<b> Ejercicio 5 (1.75 puntos): Limpieza de metadatos de notebooks.</b>\n",
    "\n",
    "<b>Objetivo:</b> Limpiar los metadatos de notebooks de tal manera que no hayan elementos duplicados, ni hayan datos con valores inesperados.\n",
    "\n",
    "<b>Contexto:</b> Algunos notebooks también pueden repetirse como se ha explicado previamente.\n",
    "\n",
    "<b>Requisitos:</b>\n",
    "\n",
    "- Recorrer la lista de resultados <i> notebooks </i> y dejar solo resultados únicos de notebooks.\n",
    "- Explorar los resultados obtenidos para verificar que los datos no contienen caracteres o elementos extraños.\n",
    "\n",
    "<b>Salida esperada:</b> Presentar los 10 primeros notebooks únicos que han sido procesados.\n",
    "\n",
    "\n",
    "</div>"
   ]
  },
  {
   "cell_type": "code",
   "execution_count": null,
   "metadata": {
    "id": "EVuR-RaaaZCK"
   },
   "outputs": [],
   "source": [
    "######################\n",
    "# SOLUCIÓN\n",
    "######################\n",
    "\n",
    "\n"
   ]
  },
  {
   "cell_type": "markdown",
   "metadata": {
    "id": "3xmoduncaZCL"
   },
   "source": [
    "### Paso 2.2: Integración de resultados"
   ]
  },
  {
   "cell_type": "markdown",
   "metadata": {
    "id": "M6F8KNJuaZCL"
   },
   "source": [
    "<div style=\"background-color: #FFFF99; border-color: #7C9DBF; border-left: 5px solid #7C9DBF; padding: 0.5em;\">\n",
    "\n",
    "<b> Ejercicio 6 (2 ptos): Integración de datos obtenidos (tanto de datasets y notebooks) </b>\n",
    "\n",
    "<b>Objetivo:</b> Crear un dataframe único donde consten los datos de los datasets como de los notebooks.\n",
    "\n",
    "<b>Requisitos:</b>\n",
    "\n",
    "- A partir de la estructuras de datos <i> datasets </i> y <i> notebooks </i>, determinar cuáles los atributos comunes y cuáles son diferentes para crear una sola estructura tipo dataframe que almacene todos los datos extraídos.\n",
    "\n",
    "<b>Salida esperada:</b> Presentar un <i>sample</i> de 10 elementos que consten en el dataframe único\n",
    "\n",
    "\n",
    "</div>"
   ]
  },
  {
   "cell_type": "code",
   "execution_count": null,
   "metadata": {
    "id": "dwgU4fEkaZCM"
   },
   "outputs": [],
   "source": [
    "######################\n",
    "# SOLUCIÓN\n",
    "######################"
   ]
  }
 ],
 "metadata": {
  "colab": {
   "provenance": []
  },
  "finalized": {
   "timestamp": 1621297898005,
   "trusted": true
  },
  "kernelspec": {
   "display_name": "Python 3 (ipykernel)",
   "language": "python",
   "name": "python3"
  },
  "language_info": {
   "codemirror_mode": {
    "name": "ipython",
    "version": 3
   },
   "file_extension": ".py",
   "mimetype": "text/x-python",
   "name": "python",
   "nbconvert_exporter": "python",
   "pygments_lexer": "ipython3",
   "version": "3.10.9"
  },
  "require": {
   "paths": {
    "buttons.colvis": "https://cdn.datatables.net/buttons/1.5.6/js/buttons.colVis.min",
    "buttons.flash": "https://cdn.datatables.net/buttons/1.5.6/js/buttons.flash.min",
    "buttons.html5": "https://cdn.datatables.net/buttons/1.5.6/js/buttons.html5.min",
    "buttons.print": "https://cdn.datatables.net/buttons/1.5.6/js/buttons.print.min",
    "chartjs": "https://cdnjs.cloudflare.com/ajax/libs/Chart.js/2.8.0/Chart",
    "d3": "https://d3js.org/d3.v5.min",
    "d3-array": "https://d3js.org/d3-array.v2.min",
    "datatables.net": "https://cdn.datatables.net/1.10.18/js/jquery.dataTables",
    "datatables.net-buttons": "https://cdn.datatables.net/buttons/1.5.6/js/dataTables.buttons.min",
    "datatables.responsive": "https://cdn.datatables.net/responsive/2.2.2/js/dataTables.responsive.min",
    "datatables.scroller": "https://cdn.datatables.net/scroller/2.0.0/js/dataTables.scroller.min",
    "datatables.select": "https://cdn.datatables.net/select/1.3.0/js/dataTables.select.min",
    "jszip": "https://cdnjs.cloudflare.com/ajax/libs/jszip/2.5.0/jszip.min",
    "moment": "https://cdnjs.cloudflare.com/ajax/libs/moment.js/2.8.0/moment",
    "pdfmake": "https://cdnjs.cloudflare.com/ajax/libs/pdfmake/0.1.36/pdfmake.min",
    "vfsfonts": "https://cdnjs.cloudflare.com/ajax/libs/pdfmake/0.1.36/vfs_fonts"
   },
   "shim": {
    "buttons.colvis": {
     "deps": [
      "jszip",
      "datatables.net-buttons"
     ]
    },
    "buttons.flash": {
     "deps": [
      "jszip",
      "datatables.net-buttons"
     ]
    },
    "buttons.html5": {
     "deps": [
      "jszip",
      "datatables.net-buttons"
     ]
    },
    "buttons.print": {
     "deps": [
      "jszip",
      "datatables.net-buttons"
     ]
    },
    "chartjs": {
     "deps": [
      "moment"
     ]
    },
    "datatables.net": {
     "exports": "$.fn.dataTable"
    },
    "datatables.net-buttons": {
     "deps": [
      "datatables.net"
     ]
    },
    "pdfmake": {
     "deps": [
      "datatables.net"
     ]
    },
    "vfsfonts": {
     "deps": [
      "datatables.net"
     ]
    }
   }
  }
 },
 "nbformat": 4,
 "nbformat_minor": 4
}
